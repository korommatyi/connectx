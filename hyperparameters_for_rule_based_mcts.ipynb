{
 "cells": [
  {
   "cell_type": "code",
   "execution_count": 1,
   "metadata": {},
   "outputs": [],
   "source": [
    "from kaggle_environments import evaluate, make, utils\n",
    "from rule_based_mcts import mcts_agent\n",
    "from multiprocessing import Pool\n",
    "import random\n",
    "from collections import defaultdict\n",
    "from pprint import pprint\n",
    "from operator import itemgetter"
   ]
  },
  {
   "cell_type": "code",
   "execution_count": 2,
   "metadata": {},
   "outputs": [],
   "source": [
    "config = {\n",
    "    'columns': 7,\n",
    "    'rows': 6,\n",
    "    'inarow': 4,\n",
    "}"
   ]
  },
  {
   "cell_type": "code",
   "execution_count": 3,
   "metadata": {},
   "outputs": [],
   "source": [
    "random.seed(2304982340)\n",
    "\n",
    "def random_mcts_config():\n",
    "    return {\n",
    "        'score_exp': random.random()*3 + 1, # uniform from 1 to 4\n",
    "        'c_1': random.random()*1.5 + 0.5, # uniform from 0.5 to 2\n",
    "        'c_2': int(10**(random.random()*3 + 3)),\n",
    "    }"
   ]
  },
  {
   "cell_type": "code",
   "execution_count": 4,
   "metadata": {},
   "outputs": [],
   "source": [
    "def create_random_agent():\n",
    "    c = random_mcts_config()\n",
    "    \n",
    "    def _agent(observation, configuration):\n",
    "        return mcts_agent(observation, configuration, **c)\n",
    "    return _agent, c"
   ]
  },
  {
   "cell_type": "code",
   "execution_count": 5,
   "metadata": {},
   "outputs": [],
   "source": [
    "num_agents = 30\n",
    "agents = {i: create_random_agent() for i in range(num_agents)}"
   ]
  },
  {
   "cell_type": "code",
   "execution_count": 6,
   "metadata": {},
   "outputs": [
    {
     "name": "stdout",
     "output_type": "stream",
     "text": [
      "{'score_exp': 3.9583926933365094, 'c_1': 1.2069487463790587, 'c_2': 1596}\n",
      "{'score_exp': 3.233811922622582, 'c_1': 0.8705138537616335, 'c_2': 17261}\n",
      "{'score_exp': 2.676635779041269, 'c_1': 0.5951919820943068, 'c_2': 10184}\n",
      "{'score_exp': 2.2075751176884735, 'c_1': 1.2974073107483504, 'c_2': 84727}\n",
      "{'score_exp': 2.870655546745196, 'c_1': 0.8055586089420715, 'c_2': 9624}\n",
      "{'score_exp': 3.9856745435150778, 'c_1': 0.8155848842296198, 'c_2': 6317}\n",
      "{'score_exp': 1.4056169508130143, 'c_1': 0.7738371282370062, 'c_2': 12409}\n",
      "{'score_exp': 1.0743233616558903, 'c_1': 1.7688289031244118, 'c_2': 89283}\n",
      "{'score_exp': 3.481856182231436, 'c_1': 1.0252471630795175, 'c_2': 40338}\n",
      "{'score_exp': 1.5419119969740782, 'c_1': 1.8458439934532447, 'c_2': 2921}\n",
      "{'score_exp': 1.4886013569048901, 'c_1': 1.140703454289804, 'c_2': 3594}\n",
      "{'score_exp': 2.5674476202366554, 'c_1': 1.253406471776142, 'c_2': 3348}\n",
      "{'score_exp': 3.6112531000103187, 'c_1': 1.721245563755075, 'c_2': 1410}\n",
      "{'score_exp': 1.568594191730147, 'c_1': 1.7426760544067923, 'c_2': 140819}\n",
      "{'score_exp': 3.1911277173531634, 'c_1': 1.0178631968973137, 'c_2': 12036}\n",
      "{'score_exp': 1.0529048097577436, 'c_1': 1.715850346786079, 'c_2': 1723}\n",
      "{'score_exp': 2.8478211487854397, 'c_1': 0.6179020438122808, 'c_2': 134570}\n",
      "{'score_exp': 2.408460410482344, 'c_1': 1.4534859387667425, 'c_2': 1226}\n",
      "{'score_exp': 2.296014882944922, 'c_1': 1.4687088139240423, 'c_2': 547282}\n",
      "{'score_exp': 1.0564065284622153, 'c_1': 1.0140893600118162, 'c_2': 10749}\n",
      "{'score_exp': 2.6935402542674987, 'c_1': 0.7559298212429512, 'c_2': 957832}\n",
      "{'score_exp': 1.650416842359042, 'c_1': 0.8120768012972331, 'c_2': 367183}\n",
      "{'score_exp': 1.7332154474312553, 'c_1': 1.5011399745458363, 'c_2': 149145}\n",
      "{'score_exp': 3.347444310818053, 'c_1': 1.2293874759890442, 'c_2': 94312}\n",
      "{'score_exp': 3.7764631025446826, 'c_1': 1.5655861950508072, 'c_2': 224054}\n",
      "{'score_exp': 2.6922791055847846, 'c_1': 1.09698033496004, 'c_2': 4086}\n",
      "{'score_exp': 2.758170588350052, 'c_1': 1.1324092652469808, 'c_2': 1299}\n",
      "{'score_exp': 2.257896534145562, 'c_1': 0.7029383567691162, 'c_2': 279363}\n",
      "{'score_exp': 1.7661765288905342, 'c_1': 0.9359694184406527, 'c_2': 38759}\n",
      "{'score_exp': 1.173786456266476, 'c_1': 1.1876066157400584, 'c_2': 55212}\n"
     ]
    }
   ],
   "source": [
    "for a in agents.values():\n",
    "    print(a[1])"
   ]
  },
  {
   "cell_type": "code",
   "execution_count": 7,
   "metadata": {},
   "outputs": [],
   "source": [
    "def play_game(agent_id_1, agent_id_2):\n",
    "    env = make(\"connectx\", debug=False, configuration=config)\n",
    "    env.reset()\n",
    "    env.run([agents[agent_id_1][0], agents[agent_id_2][0]])\n",
    "    return env.state[0]['reward'], env.state[1]['reward']"
   ]
  },
  {
   "cell_type": "code",
   "execution_count": 8,
   "metadata": {},
   "outputs": [],
   "source": [
    "games = [(i, j) for i in range(0, num_agents) for j in range(0, num_agents) if i != j]"
   ]
  },
  {
   "cell_type": "code",
   "execution_count": null,
   "metadata": {},
   "outputs": [],
   "source": [
    "def f(pair):\n",
    "    return play_game(pair[0], pair[1])\n",
    "\n",
    "with Pool(11) as p:\n",
    "    results = p.map(f, games)"
   ]
  },
  {
   "cell_type": "code",
   "execution_count": null,
   "metadata": {},
   "outputs": [],
   "source": [
    "points = defaultdict(lambda: 0)\n",
    "\n",
    "for r, pair in zip(results, games):\n",
    "    r_1, r_2 = r\n",
    "    a_1, a_2 = pair\n",
    "    if r_1 is None:\n",
    "        r_1 = 0.5\n",
    "    if r_2 is None:\n",
    "        r_2 = 0.5\n",
    "    points[a_1] += r_1\n",
    "    points[a_2] += r_2"
   ]
  },
  {
   "cell_type": "code",
   "execution_count": null,
   "metadata": {},
   "outputs": [],
   "source": [
    "best_agent, best_score = max(points.items(), key=itemgetter(1))\n",
    "best_score"
   ]
  },
  {
   "cell_type": "code",
   "execution_count": null,
   "metadata": {},
   "outputs": [],
   "source": [
    "agents[best_agent][1]"
   ]
  }
 ],
 "metadata": {
  "kernelspec": {
   "display_name": "Python 3",
   "language": "python",
   "name": "python3"
  },
  "language_info": {
   "codemirror_mode": {
    "name": "ipython",
    "version": 3
   },
   "file_extension": ".py",
   "mimetype": "text/x-python",
   "name": "python",
   "nbconvert_exporter": "python",
   "pygments_lexer": "ipython3",
   "version": "3.7.6"
  }
 },
 "nbformat": 4,
 "nbformat_minor": 4
}
